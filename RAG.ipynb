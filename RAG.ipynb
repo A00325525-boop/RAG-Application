{
  "nbformat": 4,
  "nbformat_minor": 0,
  "metadata": {
    "colab": {
      "provenance": []
    },
    "kernelspec": {
      "name": "python3",
      "display_name": "Python 3"
    },
    "language_info": {
      "name": "python"
    }
  },
  "cells": [
    {
      "cell_type": "markdown",
      "source": [
        "#Step 1: Setting Up the Environment"
      ],
      "metadata": {
        "id": "5v2hOk3lWauj"
      }
    },
    {
      "cell_type": "code",
      "execution_count": 25,
      "metadata": {
        "colab": {
          "base_uri": "https://localhost:8080/"
        },
        "id": "t6uKLeC5Skc3",
        "outputId": "9aa63a45-5433-43af-c28e-5c9dfd583f47"
      },
      "outputs": [
        {
          "output_type": "stream",
          "name": "stdout",
          "text": [
            "Requirement already satisfied: PyPDF2 in /usr/local/lib/python3.11/dist-packages (3.0.1)\n",
            "Requirement already satisfied: python-docx in /usr/local/lib/python3.11/dist-packages (1.2.0)\n",
            "Requirement already satisfied: requests in /usr/local/lib/python3.11/dist-packages (2.32.3)\n",
            "Requirement already satisfied: faiss-cpu in /usr/local/lib/python3.11/dist-packages (1.11.0.post1)\n",
            "Requirement already satisfied: lxml>=3.1.0 in /usr/local/lib/python3.11/dist-packages (from python-docx) (5.4.0)\n",
            "Requirement already satisfied: typing_extensions>=4.9.0 in /usr/local/lib/python3.11/dist-packages (from python-docx) (4.14.1)\n",
            "Requirement already satisfied: charset-normalizer<4,>=2 in /usr/local/lib/python3.11/dist-packages (from requests) (3.4.2)\n",
            "Requirement already satisfied: idna<4,>=2.5 in /usr/local/lib/python3.11/dist-packages (from requests) (3.10)\n",
            "Requirement already satisfied: urllib3<3,>=1.21.1 in /usr/local/lib/python3.11/dist-packages (from requests) (2.5.0)\n",
            "Requirement already satisfied: certifi>=2017.4.17 in /usr/local/lib/python3.11/dist-packages (from requests) (2025.8.3)\n",
            "Requirement already satisfied: numpy<3.0,>=1.25.0 in /usr/local/lib/python3.11/dist-packages (from faiss-cpu) (2.0.2)\n",
            "Requirement already satisfied: packaging in /usr/local/lib/python3.11/dist-packages (from faiss-cpu) (25.0)\n"
          ]
        }
      ],
      "source": [
        "pip install PyPDF2 python-docx requests faiss-cpu\n"
      ]
    },
    {
      "cell_type": "markdown",
      "source": [
        "#Step 2: Document Processing"
      ],
      "metadata": {
        "id": "KKWGReOTWeTd"
      }
    },
    {
      "cell_type": "code",
      "source": [
        "from PyPDF2 import PdfReader\n",
        "from docx import Document\n",
        "\n",
        "def read_txt(file_path):\n",
        "    \"\"\"Read text from a .txt file.\"\"\"\n",
        "    with open(file_path, 'r') as file:\n",
        "        return file.read()\n",
        "\n",
        "def read_pdf(file_path):\n",
        "    \"\"\"Read text from a .pdf file.\"\"\"\n",
        "    reader = PdfReader(file_path)\n",
        "    text = \"\"\n",
        "    for page in reader.pages:\n",
        "        text += page.extract_text() + \"\\n\"\n",
        "    return text\n",
        "\n",
        "def read_docx(file_path):\n",
        "    \"\"\"Read text from a .docx file.\"\"\"\n",
        "    doc = Document(file_path)\n",
        "    return \"\\n\".join([para.text for para in doc.paragraphs])\n"
      ],
      "metadata": {
        "id": "V8eostrOSzDk"
      },
      "execution_count": 26,
      "outputs": []
    },
    {
      "cell_type": "markdown",
      "source": [
        "#Step 3: Using Mistral API for Embeddings"
      ],
      "metadata": {
        "id": "t-yDt6kcWiji"
      }
    },
    {
      "cell_type": "code",
      "source": [
        "import requests\n",
        "\n",
        "def generate_embeddings(text, api_key):\n",
        "    url = \"https://api.mistral.ai/v1/embeddings\"  # Mistral embeddings endpoint\n",
        "    headers = {\n",
        "        \"Authorization\": f\"Bearer {api_key}\",\n",
        "        \"Content-Type\": \"application/json\"\n",
        "    }\n",
        "    data = {\n",
        "        \"model\": \"mistral-embed\",\n",
        "        \"input\": text\n",
        "    }\n",
        "\n",
        "    try:\n",
        "        response = requests.post(url, headers=headers, json=data)\n",
        "        response.raise_for_status()  # raise error if not 200\n",
        "        return response.json()[\"data\"][0][\"embedding\"]\n",
        "    except requests.exceptions.HTTPError as http_err:\n",
        "        print(f\"HTTP error: {http_err}, Response: {response.text}\")\n",
        "    except Exception as err:\n",
        "        print(f\"Other error: {err}\")\n",
        "\n",
        "# Example usage\n",
        "api_key = \"eoijojgjvgvj3paddyourapi\"  # your API key here\n",
        "text = \"Marijuana, also known as cannabis, is a psychoactive drug from the Cannabis plant.\"\n",
        "\n",
        "embedding = generate_embeddings(text, api_key)\n",
        "if embedding:\n",
        "    print(\"Embedding length:\", len(embedding))\n"
      ],
      "metadata": {
        "colab": {
          "base_uri": "https://localhost:8080/"
        },
        "id": "ya7f9pDeU2Zt",
        "outputId": "c6d71c0f-d8ed-4323-82b2-67e8c75e14d1"
      },
      "execution_count": 27,
      "outputs": [
        {
          "output_type": "stream",
          "name": "stdout",
          "text": [
            "Embedding length: 1024\n"
          ]
        }
      ]
    },
    {
      "cell_type": "markdown",
      "source": [
        "#Step 4: Storing Embeddings in a Vector Store"
      ],
      "metadata": {
        "id": "bbbPUB7rWprm"
      }
    },
    {
      "cell_type": "code",
      "source": [
        "import faiss\n",
        "import numpy as np\n",
        "\n",
        "def create_vector_store(embeddings):\n",
        "    \"\"\"Create a FAISS index for the given embeddings.\"\"\"\n",
        "    dimension = embeddings.shape[1]\n",
        "    index = faiss.IndexFlatL2(dimension)\n",
        "    index.add(embeddings)\n",
        "    return index\n",
        "\n",
        "def retrieve_relevant_chunks(query, index, sentences, k=3):\n",
        "    \"\"\"Retrieve relevant text chunks for a given query.\"\"\"\n",
        "    query_embedding = generate_embeddings(query, api_key)\n",
        "    distances, indices = index.search(np.array([query_embedding]), k)\n",
        "    return [sentences[i] for i in indices[0]]\n"
      ],
      "metadata": {
        "id": "yr1rVR5cViN0"
      },
      "execution_count": 28,
      "outputs": []
    },
    {
      "cell_type": "markdown",
      "source": [
        "#Step 5: Process each document"
      ],
      "metadata": {
        "id": "qnX1eRvSWt6Y"
      }
    },
    {
      "cell_type": "code",
      "source": [
        "file_paths = [\"marijuana_info.docx\", \"marijuana_info.pdf\", \"marijuana_info.txt\"]  # edit if needed\n",
        "\n",
        "sentences, sources = [], []\n",
        "\n",
        "def split_lines_keep_text(txt):\n",
        "    # simple splitter on newlines, filter empties\n",
        "    return [s.strip() for s in txt.split(\"\\n\") if s.strip()]\n",
        "\n",
        "for fp in file_paths:\n",
        "    if fp.endswith('.txt'):\n",
        "        content = read_txt(fp)\n",
        "    elif fp.endswith('.pdf'):\n",
        "        content = read_pdf(fp)\n",
        "    elif fp.endswith('.docx'):\n",
        "        content = read_docx(fp)\n",
        "    else:\n",
        "        continue\n",
        "\n",
        "    lines = split_lines_keep_text(content)\n",
        "    sentences.extend(lines)\n",
        "    sources.extend([fp]*len(lines))\n",
        "\n",
        "print(f\"Loaded {len(sentences)} chunks from {len(file_paths)} files.\")\n"
      ],
      "metadata": {
        "colab": {
          "base_uri": "https://localhost:8080/"
        },
        "id": "aB9RcJUZYuQ1",
        "outputId": "2b5b827b-84be-4b62-aa86-5dac94975f00"
      },
      "execution_count": 29,
      "outputs": [
        {
          "output_type": "stream",
          "name": "stdout",
          "text": [
            "Loaded 25 chunks from 3 files.\n"
          ]
        }
      ]
    },
    {
      "cell_type": "code",
      "source": [
        "file_paths = [\"marijuana_info.docx\", \"marijuana_info.pdf\", \"marijuana_info.txt\"]\n",
        "sentences = []\n",
        "\n",
        "for file_path in file_paths:\n",
        "    if file_path.endswith('.txt'):\n",
        "        content = read_txt(file_path)\n",
        "    elif file_path.endswith('.pdf'):\n",
        "        content = read_pdf(file_path)\n",
        "    elif file_path.endswith('.docx'):\n",
        "        content = read_docx(file_path)\n",
        "\n",
        "    sentences.extend([s for s in content.split('\\n') if s.strip()])"
      ],
      "metadata": {
        "id": "9Jk2CA1tVisJ"
      },
      "execution_count": 30,
      "outputs": []
    },
    {
      "cell_type": "markdown",
      "source": [
        "# Step 6: Generate embeddings using Mistral API"
      ],
      "metadata": {
        "id": "rUIJoBU-W2ed"
      }
    },
    {
      "cell_type": "code",
      "source": [
        "embeddings = np.array([generate_embeddings(sentence, api_key) for sentence in sentences])"
      ],
      "metadata": {
        "id": "eOwATcxcVkbY"
      },
      "execution_count": 31,
      "outputs": []
    },
    {
      "cell_type": "markdown",
      "source": [
        "\n",
        "# Step 7: Create a vector store\n"
      ],
      "metadata": {
        "id": "TedletMNXFRY"
      }
    },
    {
      "cell_type": "code",
      "source": [
        "index = create_vector_store(embeddings)"
      ],
      "metadata": {
        "id": "1bM_3FL-XEzb"
      },
      "execution_count": 32,
      "outputs": []
    },
    {
      "cell_type": "markdown",
      "source": [
        "# Step 8: Test with the example query"
      ],
      "metadata": {
        "id": "dEyY5cRXXO_N"
      }
    },
    {
      "cell_type": "code",
      "source": [
        "query = \"What are the medicinal benefits of marijuana?\"\n",
        "relevant_chunks = retrieve_relevant_chunks(query, index, sentences)\n",
        "print(f\"Relevant chunks for '{query}': {relevant_chunks}\")"
      ],
      "metadata": {
        "colab": {
          "base_uri": "https://localhost:8080/"
        },
        "id": "yqpwe4g8XYtm",
        "outputId": "b4e37f23-88d0-4ce2-bc40-5977038dfccc"
      },
      "execution_count": 33,
      "outputs": [
        {
          "output_type": "stream",
          "name": "stdout",
          "text": [
            "Relevant chunks for 'What are the medicinal benefits of marijuana?': ['In recent years, many countries and states have moved toward the legalization or decriminalization of marijuana, particularly for medicinal use. Studies suggest that cannabis may help alleviate symptoms associated with chronic pain, epilepsy, anxiety, and multiple sclerosis.', 'In recent years, many countries and states have moved toward the legalization or decriminalization of marijuana, particularly for medicinal use. Studies suggest that cannabis may help alleviate symptoms associated with chronic pain, epilepsy, anxiety, and multiple sclerosis.', 'Despite its benefits, marijuana use also carries risks, especially when used heavily or at a young age. It may impair short-term memory, judgment, and motor coordination, and its use has been linked to mental health issues in some individuals.']\n"
          ]
        }
      ]
    }
  ]
}